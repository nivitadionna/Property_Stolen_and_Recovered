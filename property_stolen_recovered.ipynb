{
 "cells": [
  {
   "cell_type": "code",
   "execution_count": 4,
   "metadata": {},
   "outputs": [],
   "source": [
    "import numpy as np \n",
    "import seaborn as sns\n",
    "import pandas as pd\n",
    "import matplotlib.pyplot as plt\n",
    "import os\n",
    "for dirname, _, filenames in os.walk('/kaggle/input'):\n",
    "    for filename in filenames:\n",
    "        print(os.path.join(dirname, filename))"
   ]
  },
  {
   "cell_type": "code",
   "execution_count": 5,
   "metadata": {},
   "outputs": [
    {
     "data": {
      "text/plain": [
       "'C:\\\\Users\\\\USER\\\\Downloads'"
      ]
     },
     "execution_count": 5,
     "metadata": {},
     "output_type": "execute_result"
    }
   ],
   "source": [
    "pwd"
   ]
  },
  {
   "cell_type": "code",
   "execution_count": 7,
   "metadata": {},
   "outputs": [
    {
     "data": {
      "text/html": [
       "<div>\n",
       "<style scoped>\n",
       "    .dataframe tbody tr th:only-of-type {\n",
       "        vertical-align: middle;\n",
       "    }\n",
       "\n",
       "    .dataframe tbody tr th {\n",
       "        vertical-align: top;\n",
       "    }\n",
       "\n",
       "    .dataframe thead th {\n",
       "        text-align: right;\n",
       "    }\n",
       "</style>\n",
       "<table border=\"1\" class=\"dataframe\">\n",
       "  <thead>\n",
       "    <tr style=\"text-align: right;\">\n",
       "      <th></th>\n",
       "      <th>Area_Name</th>\n",
       "      <th>Year</th>\n",
       "      <th>Group_Name</th>\n",
       "      <th>Sub_Group_Name</th>\n",
       "      <th>Cases_Property_Recovered</th>\n",
       "      <th>Cases_Property_Stolen</th>\n",
       "      <th>Value_of_Property_Recovered</th>\n",
       "      <th>Value_of_Property_Stolen</th>\n",
       "    </tr>\n",
       "  </thead>\n",
       "  <tbody>\n",
       "    <tr>\n",
       "      <th>0</th>\n",
       "      <td>Andaman &amp; Nicobar Islands</td>\n",
       "      <td>2001</td>\n",
       "      <td>Burglary - Property</td>\n",
       "      <td>3. Burglary</td>\n",
       "      <td>27</td>\n",
       "      <td>64</td>\n",
       "      <td>755858</td>\n",
       "      <td>1321961</td>\n",
       "    </tr>\n",
       "    <tr>\n",
       "      <th>1</th>\n",
       "      <td>Andhra Pradesh</td>\n",
       "      <td>2001</td>\n",
       "      <td>Burglary - Property</td>\n",
       "      <td>3. Burglary</td>\n",
       "      <td>3321</td>\n",
       "      <td>7134</td>\n",
       "      <td>51483437</td>\n",
       "      <td>147019348</td>\n",
       "    </tr>\n",
       "    <tr>\n",
       "      <th>2</th>\n",
       "      <td>Arunachal Pradesh</td>\n",
       "      <td>2001</td>\n",
       "      <td>Burglary - Property</td>\n",
       "      <td>3. Burglary</td>\n",
       "      <td>66</td>\n",
       "      <td>248</td>\n",
       "      <td>825115</td>\n",
       "      <td>4931904</td>\n",
       "    </tr>\n",
       "    <tr>\n",
       "      <th>3</th>\n",
       "      <td>Assam</td>\n",
       "      <td>2001</td>\n",
       "      <td>Burglary - Property</td>\n",
       "      <td>3. Burglary</td>\n",
       "      <td>539</td>\n",
       "      <td>2423</td>\n",
       "      <td>3722850</td>\n",
       "      <td>21466955</td>\n",
       "    </tr>\n",
       "    <tr>\n",
       "      <th>4</th>\n",
       "      <td>Bihar</td>\n",
       "      <td>2001</td>\n",
       "      <td>Burglary - Property</td>\n",
       "      <td>3. Burglary</td>\n",
       "      <td>367</td>\n",
       "      <td>3231</td>\n",
       "      <td>2327135</td>\n",
       "      <td>17023937</td>\n",
       "    </tr>\n",
       "  </tbody>\n",
       "</table>\n",
       "</div>"
      ],
      "text/plain": [
       "                   Area_Name  Year           Group_Name Sub_Group_Name  \\\n",
       "0  Andaman & Nicobar Islands  2001  Burglary - Property    3. Burglary   \n",
       "1             Andhra Pradesh  2001  Burglary - Property    3. Burglary   \n",
       "2          Arunachal Pradesh  2001  Burglary - Property    3. Burglary   \n",
       "3                      Assam  2001  Burglary - Property    3. Burglary   \n",
       "4                      Bihar  2001  Burglary - Property    3. Burglary   \n",
       "\n",
       "   Cases_Property_Recovered  Cases_Property_Stolen  \\\n",
       "0                        27                     64   \n",
       "1                      3321                   7134   \n",
       "2                        66                    248   \n",
       "3                       539                   2423   \n",
       "4                       367                   3231   \n",
       "\n",
       "   Value_of_Property_Recovered  Value_of_Property_Stolen  \n",
       "0                       755858                   1321961  \n",
       "1                     51483437                 147019348  \n",
       "2                       825115                   4931904  \n",
       "3                      3722850                  21466955  \n",
       "4                      2327135                  17023937  "
      ]
     },
     "execution_count": 7,
     "metadata": {},
     "output_type": "execute_result"
    }
   ],
   "source": [
    "property=pd.read_csv(r\"C:\\Users\\USER\\Downloads\\property_stolen_recovered.csv\")\n",
    "property.head()"
   ]
  },
  {
   "cell_type": "code",
   "execution_count": 8,
   "metadata": {},
   "outputs": [
    {
     "data": {
      "text/plain": [
       "Bihar                        70\n",
       "Mizoram                      70\n",
       "Maharashtra                  70\n",
       "Gujarat                      70\n",
       "Dadra & Nagar Haveli         70\n",
       "Uttarakhand                  70\n",
       "Jharkhand                    70\n",
       "Assam                        70\n",
       "Sikkim                       70\n",
       "Nagaland                     70\n",
       "Haryana                      70\n",
       "West Bengal                  70\n",
       "Andaman & Nicobar Islands    70\n",
       "Daman & Diu                  70\n",
       "Chandigarh                   70\n",
       "Karnataka                    70\n",
       "Madhya Pradesh               70\n",
       "Tripura                      70\n",
       "Chhattisgarh                 70\n",
       "Tamil Nadu                   70\n",
       "Kerala                       70\n",
       "Jammu & Kashmir              70\n",
       "Himachal Pradesh             70\n",
       "Meghalaya                    70\n",
       "Odisha                       70\n",
       "Punjab                       70\n",
       "Puducherry                   70\n",
       "Goa                          70\n",
       "Andhra Pradesh               70\n",
       "Arunachal Pradesh            70\n",
       "Delhi                        70\n",
       "Manipur                      70\n",
       "Uttar Pradesh                70\n",
       "Rajasthan                    70\n",
       "Lakshadweep                  69\n",
       "Name: Area_Name, dtype: int64"
      ]
     },
     "execution_count": 8,
     "metadata": {},
     "output_type": "execute_result"
    }
   ],
   "source": [
    "property.Area_Name.value_counts()"
   ]
  },
  {
   "cell_type": "code",
   "execution_count": 9,
   "metadata": {},
   "outputs": [
    {
     "data": {
      "text/plain": [
       "2009    245\n",
       "2005    245\n",
       "2003    245\n",
       "2001    245\n",
       "2010    245\n",
       "2008    245\n",
       "2006    245\n",
       "2004    245\n",
       "2002    245\n",
       "2007    244\n",
       "Name: Year, dtype: int64"
      ]
     },
     "execution_count": 9,
     "metadata": {},
     "output_type": "execute_result"
    }
   ],
   "source": [
    "property.Year.value_counts()"
   ]
  },
  {
   "cell_type": "code",
   "execution_count": 10,
   "metadata": {},
   "outputs": [
    {
     "data": {
      "text/plain": [
       "Burglary - Property                    350\n",
       "Robbery - Property                     350\n",
       "Criminal Breach of Trust - Property    350\n",
       "Other heads of Property                350\n",
       "Dacoity -Property                      350\n",
       "Theft - Property                       350\n",
       "Total Property                         349\n",
       "Name: Group_Name, dtype: int64"
      ]
     },
     "execution_count": 10,
     "metadata": {},
     "output_type": "execute_result"
    }
   ],
   "source": [
    "property.Group_Name.value_counts()"
   ]
  },
  {
   "cell_type": "code",
   "execution_count": 11,
   "metadata": {},
   "outputs": [
    {
     "data": {
      "text/plain": [
       "4. Theft                                350\n",
       "1. Dacoity                              350\n",
       "6. Other Property                       350\n",
       "3. Burglary                             350\n",
       "5. Criminal Breach of Trust             350\n",
       "2. Robbery                              350\n",
       "7. Total Property Stolen & Recovered    349\n",
       "Name: Sub_Group_Name, dtype: int64"
      ]
     },
     "execution_count": 11,
     "metadata": {},
     "output_type": "execute_result"
    }
   ],
   "source": [
    "property.Sub_Group_Name.value_counts()"
   ]
  },
  {
   "cell_type": "code",
   "execution_count": 12,
   "metadata": {},
   "outputs": [
    {
     "data": {
      "text/plain": [
       "2. Robbery    350\n",
       "Name: Sub_Group_Name, dtype: int64"
      ]
     },
     "execution_count": 12,
     "metadata": {},
     "output_type": "execute_result"
    }
   ],
   "source": [
    "a=property.groupby(['Group_Name']).get_group('Robbery - Property')\n",
    "a.Sub_Group_Name.value_counts()"
   ]
  },
  {
   "cell_type": "code",
   "execution_count": 13,
   "metadata": {},
   "outputs": [
    {
     "data": {
      "text/plain": [
       "7. Total Property Stolen & Recovered    349\n",
       "Name: Sub_Group_Name, dtype: int64"
      ]
     },
     "execution_count": 13,
     "metadata": {},
     "output_type": "execute_result"
    }
   ],
   "source": [
    "a=property.groupby(['Group_Name']).get_group('Total Property')\n",
    "a.Sub_Group_Name.value_counts()"
   ]
  },
  {
   "cell_type": "code",
   "execution_count": 14,
   "metadata": {},
   "outputs": [],
   "source": [
    "property1=property.drop(['Sub_Group_Name'],axis=1)"
   ]
  },
  {
   "cell_type": "code",
   "execution_count": 15,
   "metadata": {},
   "outputs": [
    {
     "data": {
      "text/plain": [
       "<matplotlib.axes._subplots.AxesSubplot at 0x1963fcf7d00>"
      ]
     },
     "execution_count": 15,
     "metadata": {},
     "output_type": "execute_result"
    },
    {
     "data": {
      "image/png": "[encoded data removed]",
      "text/plain": [
       "<Figure size 1440x720 with 1 Axes>"
      ]
     },
     "metadata": {
      "needs_background": "light"
     },
     "output_type": "display_data"
    }
   ],
   "source": [
    "property_bystate=property1.groupby(['Area_Name'],as_index=False).sum()\n",
    "property_bystate.drop(\"Year\",axis=1,inplace=True)\n",
    "plt.figure(figsize = (20, 10))\n",
    "chart=sns.barplot(x=property_bystate.Area_Name,y=property_bystate.Cases_Property_Stolen)\n",
    "chart.set_xticklabels(chart.get_xticklabels(), rotation=45)\n",
    "chart"
   ]
  },
  {
   "cell_type": "code",
   "execution_count": 16,
   "metadata": {},
   "outputs": [
    {
     "data": {
      "text/plain": [
       "<matplotlib.axes._subplots.AxesSubplot at 0x19640983f70>"
      ]
     },
     "execution_count": 16,
     "metadata": {},
     "output_type": "execute_result"
    },
    {
     "data": {
      "image/png": "[encoded data removed]",
      "text/plain": [
       "<Figure size 1440x720 with 1 Axes>"
      ]
     },
     "metadata": {
      "needs_background": "light"
     },
     "output_type": "display_data"
    }
   ],
   "source": [
    "sortbyyear=property1.groupby(['Year'],as_index=False).sum()\n",
    "sortbyyear\n",
    "plt.figure(figsize = (20, 10))\n",
    "chart=sns.barplot(x=sortbyyear.Year,y=sortbyyear.Cases_Property_Stolen)\n",
    "chart.set_xticklabels(chart.get_xticklabels(), rotation=45)\n",
    "chart"
   ]
  },
  {
   "cell_type": "code",
   "execution_count": 17,
   "metadata": {},
   "outputs": [
    {
     "data": {
      "text/plain": [
       "<matplotlib.axes._subplots.AxesSubplot at 0x1964055f790>"
      ]
     },
     "execution_count": 17,
     "metadata": {},
     "output_type": "execute_result"
    },
    {
     "data": {
      "image/png": "[encoded data removed]",
      "text/plain": [
       "<Figure size 1440x720 with 1 Axes>"
      ]
     },
     "metadata": {
      "needs_background": "light"
     },
     "output_type": "display_data"
    }
   ],
   "source": [
    "plt.figure(figsize = (20, 10))\n",
    "chart=sns.barplot(x=sortbyyear.Year,y=sortbyyear.Value_of_Property_Stolen)\n",
    "chart.set_xticklabels(chart.get_xticklabels(), rotation=45)\n",
    "chart"
   ]
  },
  {
   "cell_type": "code",
   "execution_count": 18,
   "metadata": {},
   "outputs": [
    {
     "data": {
      "text/plain": [
       "<matplotlib.axes._subplots.AxesSubplot at 0x1963adc67f0>"
      ]
     },
     "execution_count": 18,
     "metadata": {},
     "output_type": "execute_result"
    },
    {
     "data": {
      "image/png": "[encoded data removed]",
      "text/plain": [
       "<Figure size 1440x720 with 1 Axes>"
      ]
     },
     "metadata": {
      "needs_background": "light"
     },
     "output_type": "display_data"
    }
   ],
   "source": [
    "plt.figure(figsize = (20, 10))\n",
    "chart=sns.barplot(x=property_bystate.Area_Name,y=property_bystate.Value_of_Property_Stolen)\n",
    "chart.set_xticklabels(chart.get_xticklabels(), rotation=45)\n",
    "chart"
   ]
  },
  {
   "cell_type": "code",
   "execution_count": 19,
   "metadata": {},
   "outputs": [
    {
     "data": {
      "text/plain": [
       "<matplotlib.axes._subplots.AxesSubplot at 0x1964097c580>"
      ]
     },
     "execution_count": 19,
     "metadata": {},
     "output_type": "execute_result"
    },
    {
     "data": {
      "image/png": "[encoded data removed]",
      "text/plain": [
       "<Figure size 1440x720 with 1 Axes>"
      ]
     },
     "metadata": {
      "needs_background": "light"
     },
     "output_type": "display_data"
    }
   ],
   "source": [
    "a=property1.groupby(['Area_Name']).get_group('Maharashtra')\n",
    "plt.figure(figsize = (20, 10))\n",
    "chart=sns.barplot(x=a.Year,y=a.Value_of_Property_Stolen)\n",
    "chart.set_xticklabels(chart.get_xticklabels(), rotation=45)\n",
    "chart"
   ]
  },
  {
   "cell_type": "code",
   "execution_count": 20,
   "metadata": {},
   "outputs": [
    {
     "data": {
      "text/plain": [
       "<matplotlib.axes._subplots.AxesSubplot at 0x1964097cd00>"
      ]
     },
     "execution_count": 20,
     "metadata": {},
     "output_type": "execute_result"
    },
    {
     "data": {
      "image/png": "[encoded data removed]",
      "text/plain": [
       "<Figure size 1440x720 with 1 Axes>"
      ]
     },
     "metadata": {
      "needs_background": "light"
     },
     "output_type": "display_data"
    }
   ],
   "source": [
    "a=property1.groupby(['Area_Name']).get_group('Maharashtra')\n",
    "plt.figure(figsize = (20, 10))\n",
    "chart=sns.barplot(x=a.Year,y=a.Cases_Property_Stolen)\n",
    "chart.set_xticklabels(chart.get_xticklabels(), rotation=45)\n",
    "chart\n"
   ]
  },
  {
   "cell_type": "code",
   "execution_count": 21,
   "metadata": {},
   "outputs": [
    {
     "data": {
      "text/html": [
       "<div>\n",
       "<style scoped>\n",
       "    .dataframe tbody tr th:only-of-type {\n",
       "        vertical-align: middle;\n",
       "    }\n",
       "\n",
       "    .dataframe tbody tr th {\n",
       "        vertical-align: top;\n",
       "    }\n",
       "\n",
       "    .dataframe thead th {\n",
       "        text-align: right;\n",
       "    }\n",
       "</style>\n",
       "<table border=\"1\" class=\"dataframe\">\n",
       "  <thead>\n",
       "    <tr style=\"text-align: right;\">\n",
       "      <th></th>\n",
       "      <th>Area_Name</th>\n",
       "      <th>Year</th>\n",
       "      <th>Group_Name</th>\n",
       "      <th>Sub_Group_Name</th>\n",
       "      <th>Cases_Property_Recovered</th>\n",
       "      <th>Cases_Property_Stolen</th>\n",
       "      <th>Value_of_Property_Recovered</th>\n",
       "      <th>Value_of_Property_Stolen</th>\n",
       "    </tr>\n",
       "  </thead>\n",
       "  <tbody>\n",
       "    <tr>\n",
       "      <th>1400</th>\n",
       "      <td>Andaman &amp; Nicobar Islands</td>\n",
       "      <td>2001</td>\n",
       "      <td>Robbery - Property</td>\n",
       "      <td>2. Robbery</td>\n",
       "      <td>2</td>\n",
       "      <td>4</td>\n",
       "      <td>2000</td>\n",
       "      <td>40000</td>\n",
       "    </tr>\n",
       "    <tr>\n",
       "      <th>1401</th>\n",
       "      <td>Andhra Pradesh</td>\n",
       "      <td>2001</td>\n",
       "      <td>Robbery - Property</td>\n",
       "      <td>2. Robbery</td>\n",
       "      <td>293</td>\n",
       "      <td>622</td>\n",
       "      <td>7149310</td>\n",
       "      <td>22872277</td>\n",
       "    </tr>\n",
       "    <tr>\n",
       "      <th>1402</th>\n",
       "      <td>Arunachal Pradesh</td>\n",
       "      <td>2001</td>\n",
       "      <td>Robbery - Property</td>\n",
       "      <td>2. Robbery</td>\n",
       "      <td>30</td>\n",
       "      <td>84</td>\n",
       "      <td>1436973</td>\n",
       "      <td>2535439</td>\n",
       "    </tr>\n",
       "    <tr>\n",
       "      <th>1403</th>\n",
       "      <td>Assam</td>\n",
       "      <td>2001</td>\n",
       "      <td>Robbery - Property</td>\n",
       "      <td>2. Robbery</td>\n",
       "      <td>146</td>\n",
       "      <td>687</td>\n",
       "      <td>3773502</td>\n",
       "      <td>16336928</td>\n",
       "    </tr>\n",
       "    <tr>\n",
       "      <th>1404</th>\n",
       "      <td>Bihar</td>\n",
       "      <td>2001</td>\n",
       "      <td>Robbery - Property</td>\n",
       "      <td>2. Robbery</td>\n",
       "      <td>441</td>\n",
       "      <td>2201</td>\n",
       "      <td>12827627</td>\n",
       "      <td>51594151</td>\n",
       "    </tr>\n",
       "    <tr>\n",
       "      <th>...</th>\n",
       "      <td>...</td>\n",
       "      <td>...</td>\n",
       "      <td>...</td>\n",
       "      <td>...</td>\n",
       "      <td>...</td>\n",
       "      <td>...</td>\n",
       "      <td>...</td>\n",
       "      <td>...</td>\n",
       "    </tr>\n",
       "    <tr>\n",
       "      <th>1745</th>\n",
       "      <td>Tamil Nadu</td>\n",
       "      <td>2010</td>\n",
       "      <td>Robbery - Property</td>\n",
       "      <td>2. Robbery</td>\n",
       "      <td>1326</td>\n",
       "      <td>1817</td>\n",
       "      <td>70981709</td>\n",
       "      <td>117163496</td>\n",
       "    </tr>\n",
       "    <tr>\n",
       "      <th>1746</th>\n",
       "      <td>Tripura</td>\n",
       "      <td>2010</td>\n",
       "      <td>Robbery - Property</td>\n",
       "      <td>2. Robbery</td>\n",
       "      <td>16</td>\n",
       "      <td>63</td>\n",
       "      <td>396035</td>\n",
       "      <td>1318455</td>\n",
       "    </tr>\n",
       "    <tr>\n",
       "      <th>1747</th>\n",
       "      <td>Uttar Pradesh</td>\n",
       "      <td>2010</td>\n",
       "      <td>Robbery - Property</td>\n",
       "      <td>2. Robbery</td>\n",
       "      <td>1223</td>\n",
       "      <td>2007</td>\n",
       "      <td>121061420</td>\n",
       "      <td>246998602</td>\n",
       "    </tr>\n",
       "    <tr>\n",
       "      <th>1748</th>\n",
       "      <td>Uttarakhand</td>\n",
       "      <td>2010</td>\n",
       "      <td>Robbery - Property</td>\n",
       "      <td>2. Robbery</td>\n",
       "      <td>100</td>\n",
       "      <td>152</td>\n",
       "      <td>8107570</td>\n",
       "      <td>14016919</td>\n",
       "    </tr>\n",
       "    <tr>\n",
       "      <th>1749</th>\n",
       "      <td>West Bengal</td>\n",
       "      <td>2010</td>\n",
       "      <td>Robbery - Property</td>\n",
       "      <td>2. Robbery</td>\n",
       "      <td>190</td>\n",
       "      <td>798</td>\n",
       "      <td>12010617</td>\n",
       "      <td>50393917</td>\n",
       "    </tr>\n",
       "  </tbody>\n",
       "</table>\n",
       "<p>350 rows × 8 columns</p>\n",
       "</div>"
      ],
      "text/plain": [
       "                      Area_Name  Year          Group_Name Sub_Group_Name  \\\n",
       "1400  Andaman & Nicobar Islands  2001  Robbery - Property     2. Robbery   \n",
       "1401             Andhra Pradesh  2001  Robbery - Property     2. Robbery   \n",
       "1402          Arunachal Pradesh  2001  Robbery - Property     2. Robbery   \n",
       "1403                      Assam  2001  Robbery - Property     2. Robbery   \n",
       "1404                      Bihar  2001  Robbery - Property     2. Robbery   \n",
       "...                         ...   ...                 ...            ...   \n",
       "1745                 Tamil Nadu  2010  Robbery - Property     2. Robbery   \n",
       "1746                    Tripura  2010  Robbery - Property     2. Robbery   \n",
       "1747              Uttar Pradesh  2010  Robbery - Property     2. Robbery   \n",
       "1748                Uttarakhand  2010  Robbery - Property     2. Robbery   \n",
       "1749                West Bengal  2010  Robbery - Property     2. Robbery   \n",
       "\n",
       "      Cases_Property_Recovered  Cases_Property_Stolen  \\\n",
       "1400                         2                      4   \n",
       "1401                       293                    622   \n",
       "1402                        30                     84   \n",
       "1403                       146                    687   \n",
       "1404                       441                   2201   \n",
       "...                        ...                    ...   \n",
       "1745                      1326                   1817   \n",
       "1746                        16                     63   \n",
       "1747                      1223                   2007   \n",
       "1748                       100                    152   \n",
       "1749                       190                    798   \n",
       "\n",
       "      Value_of_Property_Recovered  Value_of_Property_Stolen  \n",
       "1400                         2000                     40000  \n",
       "1401                      7149310                  22872277  \n",
       "1402                      1436973                   2535439  \n",
       "1403                      3773502                  16336928  \n",
       "1404                     12827627                  51594151  \n",
       "...                           ...                       ...  \n",
       "1745                     70981709                 117163496  \n",
       "1746                       396035                   1318455  \n",
       "1747                    121061420                 246998602  \n",
       "1748                      8107570                  14016919  \n",
       "1749                     12010617                  50393917  \n",
       "\n",
       "[350 rows x 8 columns]"
      ]
     },
     "execution_count": 21,
     "metadata": {},
     "output_type": "execute_result"
    }
   ],
   "source": [
    "property.groupby(['Group_Name']).get_group('Robbery - Property')"
   ]
  },
  {
   "cell_type": "code",
   "execution_count": 23,
   "metadata": {},
   "outputs": [
    {
     "data": {
      "text/plain": [
       "<matplotlib.axes._subplots.AxesSubplot at 0x19640ef5a30>"
      ]
     },
     "execution_count": 23,
     "metadata": {},
     "output_type": "execute_result"
    },
    {
     "data": {
      "image/png": "[encoded data removed]",
      "text/plain": [
       "<Figure size 432x288 with 1 Axes>"
      ]
     },
     "metadata": {
      "needs_background": "light"
     },
     "output_type": "display_data"
    }
   ],
   "source": [
    "sns.scatterplot(x=property.Cases_Property_Recovered,y=property.Cases_Property_Stolen)"
   ]
  },
  {
   "cell_type": "code",
   "execution_count": 24,
   "metadata": {
    "scrolled": true
   },
   "outputs": [
    {
     "data": {
      "text/html": [
       "<div>\n",
       "<style scoped>\n",
       "    .dataframe tbody tr th:only-of-type {\n",
       "        vertical-align: middle;\n",
       "    }\n",
       "\n",
       "    .dataframe tbody tr th {\n",
       "        vertical-align: top;\n",
       "    }\n",
       "\n",
       "    .dataframe thead th {\n",
       "        text-align: right;\n",
       "    }\n",
       "</style>\n",
       "<table border=\"1\" class=\"dataframe\">\n",
       "  <thead>\n",
       "    <tr style=\"text-align: right;\">\n",
       "      <th></th>\n",
       "      <th>Area_Name</th>\n",
       "      <th>Cases_Property_Recovered</th>\n",
       "      <th>Cases_Property_Stolen</th>\n",
       "      <th>Value_of_Property_Recovered</th>\n",
       "      <th>Value_of_Property_Stolen</th>\n",
       "      <th>Difference</th>\n",
       "    </tr>\n",
       "  </thead>\n",
       "  <tbody>\n",
       "    <tr>\n",
       "      <th>0</th>\n",
       "      <td>Andaman &amp; Nicobar Islands</td>\n",
       "      <td>1516</td>\n",
       "      <td>3662</td>\n",
       "      <td>53629194</td>\n",
       "      <td>646746834</td>\n",
       "      <td>2146</td>\n",
       "    </tr>\n",
       "    <tr>\n",
       "      <th>1</th>\n",
       "      <td>Andhra Pradesh</td>\n",
       "      <td>332510</td>\n",
       "      <td>642822</td>\n",
       "      <td>8320971694</td>\n",
       "      <td>18762833176</td>\n",
       "      <td>310312</td>\n",
       "    </tr>\n",
       "    <tr>\n",
       "      <th>2</th>\n",
       "      <td>Arunachal Pradesh</td>\n",
       "      <td>6048</td>\n",
       "      <td>16632</td>\n",
       "      <td>646754238</td>\n",
       "      <td>1895885402</td>\n",
       "      <td>10584</td>\n",
       "    </tr>\n",
       "    <tr>\n",
       "      <th>3</th>\n",
       "      <td>Assam</td>\n",
       "      <td>54784</td>\n",
       "      <td>245560</td>\n",
       "      <td>1521007674</td>\n",
       "      <td>5814831574</td>\n",
       "      <td>190776</td>\n",
       "    </tr>\n",
       "    <tr>\n",
       "      <th>4</th>\n",
       "      <td>Bihar</td>\n",
       "      <td>63876</td>\n",
       "      <td>411840</td>\n",
       "      <td>1098784766</td>\n",
       "      <td>7549162134</td>\n",
       "      <td>347964</td>\n",
       "    </tr>\n",
       "    <tr>\n",
       "      <th>5</th>\n",
       "      <td>Chandigarh</td>\n",
       "      <td>15188</td>\n",
       "      <td>39720</td>\n",
       "      <td>625548682</td>\n",
       "      <td>1674993984</td>\n",
       "      <td>24532</td>\n",
       "    </tr>\n",
       "    <tr>\n",
       "      <th>6</th>\n",
       "      <td>Chhattisgarh</td>\n",
       "      <td>68912</td>\n",
       "      <td>199712</td>\n",
       "      <td>1932428432</td>\n",
       "      <td>5770126842</td>\n",
       "      <td>130800</td>\n",
       "    </tr>\n",
       "    <tr>\n",
       "      <th>7</th>\n",
       "      <td>Dadra &amp; Nagar Haveli</td>\n",
       "      <td>1170</td>\n",
       "      <td>2642</td>\n",
       "      <td>225144198</td>\n",
       "      <td>2007055568</td>\n",
       "      <td>1472</td>\n",
       "    </tr>\n",
       "    <tr>\n",
       "      <th>8</th>\n",
       "      <td>Daman &amp; Diu</td>\n",
       "      <td>534</td>\n",
       "      <td>2056</td>\n",
       "      <td>81535334</td>\n",
       "      <td>375254250</td>\n",
       "      <td>1522</td>\n",
       "    </tr>\n",
       "    <tr>\n",
       "      <th>9</th>\n",
       "      <td>Delhi</td>\n",
       "      <td>157858</td>\n",
       "      <td>490694</td>\n",
       "      <td>2777898238</td>\n",
       "      <td>60706985834</td>\n",
       "      <td>332836</td>\n",
       "    </tr>\n",
       "    <tr>\n",
       "      <th>10</th>\n",
       "      <td>Goa</td>\n",
       "      <td>5884</td>\n",
       "      <td>19788</td>\n",
       "      <td>322047336</td>\n",
       "      <td>4081613364</td>\n",
       "      <td>13904</td>\n",
       "    </tr>\n",
       "    <tr>\n",
       "      <th>11</th>\n",
       "      <td>Gujarat</td>\n",
       "      <td>166644</td>\n",
       "      <td>534060</td>\n",
       "      <td>6902107076</td>\n",
       "      <td>66430799410</td>\n",
       "      <td>367416</td>\n",
       "    </tr>\n",
       "    <tr>\n",
       "      <th>12</th>\n",
       "      <td>Haryana</td>\n",
       "      <td>133320</td>\n",
       "      <td>303336</td>\n",
       "      <td>9005055364</td>\n",
       "      <td>15282212218</td>\n",
       "      <td>170016</td>\n",
       "    </tr>\n",
       "    <tr>\n",
       "      <th>13</th>\n",
       "      <td>Himachal Pradesh</td>\n",
       "      <td>9798</td>\n",
       "      <td>34000</td>\n",
       "      <td>708580140</td>\n",
       "      <td>2813012810</td>\n",
       "      <td>24202</td>\n",
       "    </tr>\n",
       "    <tr>\n",
       "      <th>14</th>\n",
       "      <td>Jammu &amp; Kashmir</td>\n",
       "      <td>22718</td>\n",
       "      <td>74906</td>\n",
       "      <td>1190983796</td>\n",
       "      <td>2994343940</td>\n",
       "      <td>52188</td>\n",
       "    </tr>\n",
       "    <tr>\n",
       "      <th>15</th>\n",
       "      <td>Jharkhand</td>\n",
       "      <td>35368</td>\n",
       "      <td>176868</td>\n",
       "      <td>688336780</td>\n",
       "      <td>4656050214</td>\n",
       "      <td>141500</td>\n",
       "    </tr>\n",
       "    <tr>\n",
       "      <th>16</th>\n",
       "      <td>Karnataka</td>\n",
       "      <td>160806</td>\n",
       "      <td>494968</td>\n",
       "      <td>9012218484</td>\n",
       "      <td>29150457754</td>\n",
       "      <td>334162</td>\n",
       "    </tr>\n",
       "    <tr>\n",
       "      <th>17</th>\n",
       "      <td>Kerala</td>\n",
       "      <td>73066</td>\n",
       "      <td>221652</td>\n",
       "      <td>3070699020</td>\n",
       "      <td>27663292028</td>\n",
       "      <td>148586</td>\n",
       "    </tr>\n",
       "    <tr>\n",
       "      <th>18</th>\n",
       "      <td>Lakshadweep</td>\n",
       "      <td>101</td>\n",
       "      <td>342</td>\n",
       "      <td>1591327</td>\n",
       "      <td>9863129</td>\n",
       "      <td>241</td>\n",
       "    </tr>\n",
       "    <tr>\n",
       "      <th>19</th>\n",
       "      <td>Madhya Pradesh</td>\n",
       "      <td>254106</td>\n",
       "      <td>733524</td>\n",
       "      <td>20338284748</td>\n",
       "      <td>31059072132</td>\n",
       "      <td>479418</td>\n",
       "    </tr>\n",
       "    <tr>\n",
       "      <th>20</th>\n",
       "      <td>Maharashtra</td>\n",
       "      <td>473186</td>\n",
       "      <td>1376814</td>\n",
       "      <td>24278687606</td>\n",
       "      <td>197405117114</td>\n",
       "      <td>903628</td>\n",
       "    </tr>\n",
       "    <tr>\n",
       "      <th>21</th>\n",
       "      <td>Manipur</td>\n",
       "      <td>656</td>\n",
       "      <td>11584</td>\n",
       "      <td>136829326</td>\n",
       "      <td>1431775098</td>\n",
       "      <td>10928</td>\n",
       "    </tr>\n",
       "    <tr>\n",
       "      <th>22</th>\n",
       "      <td>Meghalaya</td>\n",
       "      <td>3924</td>\n",
       "      <td>16724</td>\n",
       "      <td>151165908</td>\n",
       "      <td>1478483206</td>\n",
       "      <td>12800</td>\n",
       "    </tr>\n",
       "    <tr>\n",
       "      <th>23</th>\n",
       "      <td>Mizoram</td>\n",
       "      <td>18896</td>\n",
       "      <td>26892</td>\n",
       "      <td>345128278</td>\n",
       "      <td>861045142</td>\n",
       "      <td>7996</td>\n",
       "    </tr>\n",
       "    <tr>\n",
       "      <th>24</th>\n",
       "      <td>Nagaland</td>\n",
       "      <td>2666</td>\n",
       "      <td>10814</td>\n",
       "      <td>227911296</td>\n",
       "      <td>3829289010</td>\n",
       "      <td>8148</td>\n",
       "    </tr>\n",
       "    <tr>\n",
       "      <th>25</th>\n",
       "      <td>Odisha</td>\n",
       "      <td>104076</td>\n",
       "      <td>224280</td>\n",
       "      <td>2761739566</td>\n",
       "      <td>13003825752</td>\n",
       "      <td>120204</td>\n",
       "    </tr>\n",
       "    <tr>\n",
       "      <th>26</th>\n",
       "      <td>Puducherry</td>\n",
       "      <td>7274</td>\n",
       "      <td>14236</td>\n",
       "      <td>249050464</td>\n",
       "      <td>453605500</td>\n",
       "      <td>6962</td>\n",
       "    </tr>\n",
       "    <tr>\n",
       "      <th>27</th>\n",
       "      <td>Punjab</td>\n",
       "      <td>85530</td>\n",
       "      <td>151182</td>\n",
       "      <td>8637846488</td>\n",
       "      <td>15657927994</td>\n",
       "      <td>65652</td>\n",
       "    </tr>\n",
       "    <tr>\n",
       "      <th>28</th>\n",
       "      <td>Rajasthan</td>\n",
       "      <td>141114</td>\n",
       "      <td>469468</td>\n",
       "      <td>10094937386</td>\n",
       "      <td>17686460784</td>\n",
       "      <td>328354</td>\n",
       "    </tr>\n",
       "    <tr>\n",
       "      <th>29</th>\n",
       "      <td>Sikkim</td>\n",
       "      <td>966</td>\n",
       "      <td>3314</td>\n",
       "      <td>40014540</td>\n",
       "      <td>475664388</td>\n",
       "      <td>2348</td>\n",
       "    </tr>\n",
       "    <tr>\n",
       "      <th>30</th>\n",
       "      <td>Tamil Nadu</td>\n",
       "      <td>342148</td>\n",
       "      <td>431864</td>\n",
       "      <td>8731172288</td>\n",
       "      <td>14042000468</td>\n",
       "      <td>89716</td>\n",
       "    </tr>\n",
       "    <tr>\n",
       "      <th>31</th>\n",
       "      <td>Tripura</td>\n",
       "      <td>3326</td>\n",
       "      <td>14480</td>\n",
       "      <td>88223078</td>\n",
       "      <td>632808560</td>\n",
       "      <td>11154</td>\n",
       "    </tr>\n",
       "    <tr>\n",
       "      <th>32</th>\n",
       "      <td>Uttar Pradesh</td>\n",
       "      <td>171046</td>\n",
       "      <td>559970</td>\n",
       "      <td>13879052340</td>\n",
       "      <td>23856476328</td>\n",
       "      <td>388924</td>\n",
       "    </tr>\n",
       "    <tr>\n",
       "      <th>33</th>\n",
       "      <td>Uttarakhand</td>\n",
       "      <td>14562</td>\n",
       "      <td>41530</td>\n",
       "      <td>501626720</td>\n",
       "      <td>1635649166</td>\n",
       "      <td>26968</td>\n",
       "    </tr>\n",
       "    <tr>\n",
       "      <th>34</th>\n",
       "      <td>West Bengal</td>\n",
       "      <td>85776</td>\n",
       "      <td>372226</td>\n",
       "      <td>4862548814</td>\n",
       "      <td>21989317054</td>\n",
       "      <td>286450</td>\n",
       "    </tr>\n",
       "  </tbody>\n",
       "</table>\n",
       "</div>"
      ],
      "text/plain": [
       "                    Area_Name  Cases_Property_Recovered  \\\n",
       "0   Andaman & Nicobar Islands                      1516   \n",
       "1              Andhra Pradesh                    332510   \n",
       "2           Arunachal Pradesh                      6048   \n",
       "3                       Assam                     54784   \n",
       "4                       Bihar                     63876   \n",
       "5                  Chandigarh                     15188   \n",
       "6                Chhattisgarh                     68912   \n",
       "7        Dadra & Nagar Haveli                      1170   \n",
       "8                 Daman & Diu                       534   \n",
       "9                       Delhi                    157858   \n",
       "10                        Goa                      5884   \n",
       "11                    Gujarat                    166644   \n",
       "12                    Haryana                    133320   \n",
       "13           Himachal Pradesh                      9798   \n",
       "14            Jammu & Kashmir                     22718   \n",
       "15                  Jharkhand                     35368   \n",
       "16                  Karnataka                    160806   \n",
       "17                     Kerala                     73066   \n",
       "18                Lakshadweep                       101   \n",
       "19             Madhya Pradesh                    254106   \n",
       "20                Maharashtra                    473186   \n",
       "21                    Manipur                       656   \n",
       "22                  Meghalaya                      3924   \n",
       "23                    Mizoram                     18896   \n",
       "24                   Nagaland                      2666   \n",
       "25                     Odisha                    104076   \n",
       "26                 Puducherry                      7274   \n",
       "27                     Punjab                     85530   \n",
       "28                  Rajasthan                    141114   \n",
       "29                     Sikkim                       966   \n",
       "30                 Tamil Nadu                    342148   \n",
       "31                    Tripura                      3326   \n",
       "32              Uttar Pradesh                    171046   \n",
       "33                Uttarakhand                     14562   \n",
       "34                West Bengal                     85776   \n",
       "\n",
       "    Cases_Property_Stolen  Value_of_Property_Recovered  \\\n",
       "0                    3662                     53629194   \n",
       "1                  642822                   8320971694   \n",
       "2                   16632                    646754238   \n",
       "3                  245560                   1521007674   \n",
       "4                  411840                   1098784766   \n",
       "5                   39720                    625548682   \n",
       "6                  199712                   1932428432   \n",
       "7                    2642                    225144198   \n",
       "8                    2056                     81535334   \n",
       "9                  490694                   2777898238   \n",
       "10                  19788                    322047336   \n",
       "11                 534060                   6902107076   \n",
       "12                 303336                   9005055364   \n",
       "13                  34000                    708580140   \n",
       "14                  74906                   1190983796   \n",
       "15                 176868                    688336780   \n",
       "16                 494968                   9012218484   \n",
       "17                 221652                   3070699020   \n",
       "18                    342                      1591327   \n",
       "19                 733524                  20338284748   \n",
       "20                1376814                  24278687606   \n",
       "21                  11584                    136829326   \n",
       "22                  16724                    151165908   \n",
       "23                  26892                    345128278   \n",
       "24                  10814                    227911296   \n",
       "25                 224280                   2761739566   \n",
       "26                  14236                    249050464   \n",
       "27                 151182                   8637846488   \n",
       "28                 469468                  10094937386   \n",
       "29                   3314                     40014540   \n",
       "30                 431864                   8731172288   \n",
       "31                  14480                     88223078   \n",
       "32                 559970                  13879052340   \n",
       "33                  41530                    501626720   \n",
       "34                 372226                   4862548814   \n",
       "\n",
       "    Value_of_Property_Stolen  Difference  \n",
       "0                  646746834        2146  \n",
       "1                18762833176      310312  \n",
       "2                 1895885402       10584  \n",
       "3                 5814831574      190776  \n",
       "4                 7549162134      347964  \n",
       "5                 1674993984       24532  \n",
       "6                 5770126842      130800  \n",
       "7                 2007055568        1472  \n",
       "8                  375254250        1522  \n",
       "9                60706985834      332836  \n",
       "10                4081613364       13904  \n",
       "11               66430799410      367416  \n",
       "12               15282212218      170016  \n",
       "13                2813012810       24202  \n",
       "14                2994343940       52188  \n",
       "15                4656050214      141500  \n",
       "16               29150457754      334162  \n",
       "17               27663292028      148586  \n",
       "18                   9863129         241  \n",
       "19               31059072132      479418  \n",
       "20              197405117114      903628  \n",
       "21                1431775098       10928  \n",
       "22                1478483206       12800  \n",
       "23                 861045142        7996  \n",
       "24                3829289010        8148  \n",
       "25               13003825752      120204  \n",
       "26                 453605500        6962  \n",
       "27               15657927994       65652  \n",
       "28               17686460784      328354  \n",
       "29                 475664388        2348  \n",
       "30               14042000468       89716  \n",
       "31                 632808560       11154  \n",
       "32               23856476328      388924  \n",
       "33                1635649166       26968  \n",
       "34               21989317054      286450  "
      ]
     },
     "execution_count": 24,
     "metadata": {},
     "output_type": "execute_result"
    }
   ],
   "source": [
    "property_bystate['Difference']=property_bystate[\"Cases_Property_Stolen\"]- property_bystate[\"Cases_Property_Recovered\"]\n",
    "property_bystate"
   ]
  },
  {
   "cell_type": "code",
   "execution_count": 25,
   "metadata": {},
   "outputs": [
    {
     "data": {
      "text/plain": [
       "21     5.662983\n",
       "4     15.509907\n",
       "15    19.996834\n",
       "3     22.309822\n",
       "31    22.969613\n",
       "34    23.044065\n",
       "22    23.463286\n",
       "24    24.653227\n",
       "8     25.972763\n",
       "13    28.817647\n",
       "29    29.149065\n",
       "18    29.532164\n",
       "10    29.735193\n",
       "28    30.058279\n",
       "14    30.328679\n",
       "32    30.545565\n",
       "11    31.203236\n",
       "9     32.170355\n",
       "16    32.488161\n",
       "17    32.964286\n",
       "20    34.368186\n",
       "6     34.505688\n",
       "19    34.641811\n",
       "33    35.063809\n",
       "2     36.363636\n",
       "5     38.237664\n",
       "0     41.398143\n",
       "12    43.951262\n",
       "7     44.284633\n",
       "25    46.404494\n",
       "26    51.095813\n",
       "1     51.726605\n",
       "27    56.574195\n",
       "23    70.266250\n",
       "30    79.225867\n",
       "Name: Percent_Recovery_Cases, dtype: float64"
      ]
     },
     "execution_count": 25,
     "metadata": {},
     "output_type": "execute_result"
    }
   ],
   "source": [
    "property_bystate['Percent_Recovery_Cases']=(property_bystate[\"Cases_Property_Recovered\"]/ property_bystate[\"Cases_Property_Stolen\"])*100\n",
    "\n",
    "property_bystate.Percent_Recovery_Cases.sort_values()"
   ]
  },
  {
   "cell_type": "code",
   "execution_count": 26,
   "metadata": {},
   "outputs": [
    {
     "data": {
      "text/plain": [
       "34.819519654956714"
      ]
     },
     "execution_count": 26,
     "metadata": {},
     "output_type": "execute_result"
    }
   ],
   "source": [
    "property_bystate.Percent_Recovery_Cases.sort_values().mean()"
   ]
  },
  {
   "cell_type": "code",
   "execution_count": null,
   "metadata": {},
   "outputs": [],
   "source": []
  }
 ],
 "metadata": {
  "kernelspec": {
   "display_name": "Python 3",
   "language": "python",
   "name": "python3"
  },
  "language_info": {
   "codemirror_mode": {
    "name": "ipython",
    "version": 3
   },
   "file_extension": ".py",
   "mimetype": "text/x-python",
   "name": "python",
   "nbconvert_exporter": "python",
   "pygments_lexer": "ipython3",
   "version": "3.8.3"
  }
 },
 "nbformat": 4,
 "nbformat_minor": 4
}
